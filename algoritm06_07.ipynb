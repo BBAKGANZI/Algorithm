{
  "nbformat": 4,
  "nbformat_minor": 0,
  "metadata": {
    "colab": {
      "name": "algoritm06-07.ipynb",
      "provenance": [],
      "collapsed_sections": []
    },
    "kernelspec": {
      "name": "python3",
      "display_name": "Python 3"
    },
    "language_info": {
      "name": "python"
    }
  },
  "cells": [
    {
      "cell_type": "markdown",
      "metadata": {
        "id": "v76Ltf4WV3Xm"
      },
      "source": [
        "- 스택"
      ]
    },
    {
      "cell_type": "code",
      "metadata": {
        "id": "b2cQjiOsTEWE"
      },
      "source": [
        "## 함수 선언\n",
        "def isStackFull():\n",
        "    global SIZE, stack, top\n",
        "    if (top == SIZE -1):\n",
        "        return True\n",
        "    else:\n",
        "        return False\n",
        "def isStackEmpty():\n",
        "    global SIZE, stack, top\n",
        "    if (top == SIZE -1):\n",
        "        return True\n",
        "    else:\n",
        "        return False\n",
        "\n",
        "def push(data):\n",
        "    global SIZE, stack, top\n",
        "    if (isStackFull()):\n",
        "        return\n",
        "    top += 1\n",
        "    stack[top] = data\n",
        "def pop():\n",
        "    global SIZE, stack, top\n",
        "    if (isStackEmpty()):\n",
        "        return None\n",
        "    data = stack[top]\n",
        "    stack[top] = None\n",
        "    top -= 1\n",
        "    return data\n",
        "\n",
        "\n",
        "## 전역 변수\n",
        "SIZE = 5\n",
        "stack = [None for _ in range(SIZE)]\n",
        "top = -1\n",
        "\n",
        "\n",
        "## 메인 코드\n",
        "## 데이터 6건 입력한 후 확인해보기\n",
        "## 데이터 6건 빼기 후 확인해보기\n",
        "\n",
        "\n",
        "\n"
      ],
      "execution_count": null,
      "outputs": []
    },
    {
      "cell_type": "markdown",
      "metadata": {
        "id": "ZAl-ZfyFV5SY"
      },
      "source": [
        "- 큐"
      ]
    },
    {
      "cell_type": "code",
      "metadata": {
        "colab": {
          "base_uri": "https://localhost:8080/"
        },
        "id": "Tdjv9KKZV5xP",
        "outputId": "17273e8e-b7f0-4643-c8f2-706309621b1c"
      },
      "source": [
        "SIZE =5\n",
        "queue = [None for _ in range(SIZE)]\n",
        "front = rear = -1       # front와 rear가 초기화된 상태\n",
        "\n",
        "rear += 1\n",
        "queue[rear] = '화사'\n",
        "rear += 1\n",
        "queue[rear] = '솔라'\n",
        "rear += 1\n",
        "queue[rear] = '문별'\n",
        "\n",
        "print('<--', queue, '<--')"
      ],
      "execution_count": 1,
      "outputs": [
        {
          "output_type": "stream",
          "text": [
            "<-- ['화사', '솔라', '문별', None, None] <--\n"
          ],
          "name": "stdout"
        }
      ]
    },
    {
      "cell_type": "code",
      "metadata": {
        "colab": {
          "base_uri": "https://localhost:8080/"
        },
        "id": "xAwR_KxnYLzA",
        "outputId": "d345e352-6af9-4c8e-9440-8844acea7a3e"
      },
      "source": [
        "SIZE =5\n",
        "queue = [None for _ in range(SIZE)]\n",
        "front = rear = -1       # front와 rear가 초기화된 상태\n",
        "\n",
        "rear += 1\n",
        "queue[rear] = '화사'\n",
        "rear += 1\n",
        "queue[rear] = '솔라'\n",
        "rear += 1\n",
        "queue[rear] = '문별'\n",
        "\n",
        "print('<--', queue, '<--')\n",
        "\n",
        "front += 1\n",
        "data = queue[front]\n",
        "queue[front] = None\n",
        "\n",
        "print('입장 손님 :', data)"
      ],
      "execution_count": 2,
      "outputs": [
        {
          "output_type": "stream",
          "text": [
            "<-- ['화사', '솔라', '문별', None, None] <--\n",
            "입장 손님 : 화사\n"
          ],
          "name": "stdout"
        }
      ]
    },
    {
      "cell_type": "code",
      "metadata": {
        "colab": {
          "base_uri": "https://localhost:8080/"
        },
        "id": "DIGqsdKgYu20",
        "outputId": "97395b6d-accf-4c6f-a555-a761611ace7c"
      },
      "source": [
        "SIZE =5\n",
        "queue = [None for _ in range(SIZE)]\n",
        "front = rear = -1       # front와 rear가 초기화된 상태\n",
        "\n",
        "rear += 1\n",
        "queue[rear] = '화사'\n",
        "rear += 1\n",
        "queue[rear] = '솔라'\n",
        "rear += 1\n",
        "queue[rear] = '문별'\n",
        "\n",
        "print('<--', queue, '<--')\n",
        "\n",
        "front += 1\n",
        "data = queue[front]\n",
        "queue[front] = None\n",
        "front += 1\n",
        "data = queue[front]\n",
        "queue[front] = None\n",
        "front += 1\n",
        "data = queue[front]\n",
        "queue[front] = None\n",
        "\n",
        "print('입장 손님 :', data)\n",
        "print('<--', queue, '<--')"
      ],
      "execution_count": 5,
      "outputs": [
        {
          "output_type": "stream",
          "text": [
            "<-- ['화사', '솔라', '문별', None, None] <--\n",
            "입장 손님 : 문별\n",
            "<-- [None, None, None, None, None] <--\n"
          ],
          "name": "stdout"
        }
      ]
    },
    {
      "cell_type": "code",
      "metadata": {
        "colab": {
          "base_uri": "https://localhost:8080/"
        },
        "id": "GZ6p7CeXY0Cn",
        "outputId": "e5b5d5b0-a90c-48ba-ffbd-637e3559fdb5"
      },
      "source": [
        "## 함수 선언\n",
        "def isQueueFull():\n",
        "    global SIZE, queue, front, rear\n",
        "    if(rear >= SIZE -1):\n",
        "        print('큐의 자리가 없음')\n",
        "        return True\n",
        "    else:\n",
        "        return False\n",
        "\n",
        "def isQueueEmpty():\n",
        "    global SIZE, queue, front, rear\n",
        "    if(front == rear):\n",
        "        return True\n",
        "    else:\n",
        "        return False\n",
        "\n",
        "def enQueue(data):\n",
        "    global SIZE, queue, front, rear\n",
        "    if(isQueueFull()):\n",
        "        return\n",
        "    rear += 1\n",
        "    queue[rear] = data\n",
        "    \n",
        "def deQueue():\n",
        "    global SIZE, queue, front, rear\n",
        "    if (isQueueEmpty()):    # 큐가 비면 메시지\n",
        "        print('큐 텅')      # 아니면 데이터 추출해서 반환\n",
        "        return None\n",
        "    front += 1\n",
        "    data = queue[front]\n",
        "    queue[front] = None\n",
        "    return data\n",
        "\n",
        "## 전역 변수\n",
        "SIZE = 5\n",
        "queue = [None for _ in range(SIZE)]\n",
        "front = rear = -1\n",
        "\n",
        "\n",
        "\n",
        "## 메인 코드\n",
        "# queue = ['커피', '녹차', '꿀물', '환타', '게토레이']\n",
        "# front = -1\n",
        "# rear = 4\n",
        "\n",
        "enQueue('화사')\n",
        "enQueue('솔라')\n",
        "enQueue('문별')\n",
        "# enQueue('휘인')\n",
        "# enQueue('선미')\n",
        "# enQueue('재남') \n",
        "print('<--', queue, '<--')\n",
        "\n",
        "\n",
        "data = deQueue(); print('디큐: ', data)\n",
        "data = deQueue(); print('디큐: ', data)\n",
        "data = deQueue(); print('디큐: ', data)\n",
        "data = deQueue(); print('디큐: ', data)\n",
        "print('<--', queue, '<--')"
      ],
      "execution_count": 12,
      "outputs": [
        {
          "output_type": "stream",
          "text": [
            "<-- ['화사', '솔라', '문별', None, None] <--\n",
            "디큐:  화사\n",
            "디큐:  솔라\n",
            "디큐:  문별\n",
            "큐 텅\n",
            "디큐:  None\n",
            "<-- [None, None, None, None, None] <--\n"
          ],
          "name": "stdout"
        }
      ]
    },
    {
      "cell_type": "code",
      "metadata": {
        "colab": {
          "base_uri": "https://localhost:8080/"
        },
        "id": "VNTy7t4CayCM",
        "outputId": "ebc7a36b-7913-46c0-e005-8528740d00eb"
      },
      "source": [
        "## 함수 선언\n",
        "def isQueueFull():\n",
        "    global SIZE, queue, front, rear\n",
        "    if(rear >= SIZE -1):\n",
        "        print('큐의 자리가 없음')\n",
        "        return True\n",
        "    else:\n",
        "        return False\n",
        "\n",
        "def isQueueEmpty():\n",
        "    global SIZE, queue, front, rear\n",
        "    if(front == rear):\n",
        "        return True\n",
        "    else:\n",
        "        return False\n",
        "\n",
        "def enQueue(data):\n",
        "    global SIZE, queue, front, rear\n",
        "    if(isQueueFull()):\n",
        "        return\n",
        "    rear += 1\n",
        "    queue[rear] = data\n",
        "    \n",
        "def deQueue():\n",
        "    global SIZE, queue, front, rear\n",
        "    if (isQueueEmpty()):    # 큐가 비면 메시지\n",
        "        print('큐 텅')      # 아니면 데이터 추출해서 반환\n",
        "        return None\n",
        "    front += 1\n",
        "    data = queue[front]\n",
        "    queue[front] = None\n",
        "    return data\n",
        "\n",
        "## 전역 변수\n",
        "SIZE = 5\n",
        "queue = [None for _ in range(SIZE)]\n",
        "front = rear = -1\n",
        "\n",
        "\n",
        "\n",
        "## 메인 코드\n",
        "# queue = ['커피', '녹차', '꿀물', '환타', '게토레이']\n",
        "# front = -1\n",
        "# rear = 4\n",
        "\n",
        "enQueue('화사')\n",
        "enQueue('솔라')\n",
        "enQueue('문별')\n",
        "enQueue('휘인')\n",
        "enQueue('선미')\n",
        "# enQueue('재남') \n",
        "print('<--', queue, '<--')\n",
        "\n",
        "\n",
        "data = deQueue(); print('디큐: ', data)\n",
        "data = deQueue(); print('디큐: ', data)\n",
        "print('<--', queue, '<--')\n",
        "\n",
        "enQueue('재남') \n",
        "print('<--', queue, '<--')"
      ],
      "execution_count": 15,
      "outputs": [
        {
          "output_type": "stream",
          "text": [
            "<-- ['화사', '솔라', '문별', '휘인', '선미'] <--\n",
            "디큐:  화사\n",
            "디큐:  솔라\n",
            "<-- [None, None, '문별', '휘인', '선미'] <--\n",
            "큐의 자리가 없음\n",
            "<-- [None, None, '문별', '휘인', '선미'] <--\n"
          ],
          "name": "stdout"
        }
      ]
    },
    {
      "cell_type": "code",
      "metadata": {
        "colab": {
          "base_uri": "https://localhost:8080/"
        },
        "id": "O0bp1Da4kIaz",
        "outputId": "1bd291ba-5f3b-4e69-d09c-af863a876b30"
      },
      "source": [
        "## 함수 선언\n",
        "def isQueueFull():\n",
        "    global SIZE, queue, front, rear\n",
        "    if(rear != SIZE-1):\n",
        "        return False\n",
        "    elif(rear == SIZE-1) and (front == -1):\n",
        "        return True\n",
        "    else:\n",
        "        for i in range(front+1, SIZE):\n",
        "            queue[i-1] = queue[i]\n",
        "            queue[i] = None\n",
        "        front -= 1\n",
        "        rear -= 1\n",
        "        return False\n",
        "\n",
        "def isQueueEmpty():\n",
        "    global SIZE, queue, front, rear\n",
        "    if(front == rear):\n",
        "        return True\n",
        "    else:\n",
        "        return False\n",
        "\n",
        "def enQueue(data):\n",
        "    global SIZE, queue, front, rear\n",
        "    if(isQueueFull()):\n",
        "        return\n",
        "    rear += 1\n",
        "    queue[rear] = data\n",
        "    \n",
        "def deQueue():\n",
        "    global SIZE, queue, front, rear\n",
        "    if (isQueueEmpty()):    # 큐가 비면 메시지\n",
        "        print('큐 텅')      # 아니면 데이터 추출해서 반환\n",
        "        return None\n",
        "    front += 1\n",
        "    data = queue[front]\n",
        "    queue[front] = None\n",
        "    return data\n",
        "\n",
        "## 전역 변수\n",
        "SIZE = 5\n",
        "queue = [None for _ in range(SIZE)]\n",
        "front = rear = -1\n",
        "\n",
        "\n",
        "\n",
        "## 메인 코드\n",
        "# queue = ['커피', '녹차', '꿀물', '환타', '게토레이']\n",
        "# front = -1\n",
        "# rear = 4\n",
        "\n",
        "enQueue('화사')\n",
        "enQueue('솔라')\n",
        "enQueue('문별')\n",
        "enQueue('휘인')\n",
        "enQueue('선미')\n",
        "print('<--', queue, '<--')\n",
        "\n",
        "\n",
        "data = deQueue(); print('디큐: ', data)\n",
        "data = deQueue(); print('디큐: ', data)\n",
        "print('<--', queue, '<--')\n",
        "\n",
        "enQueue('재남') \n",
        "print('<--', queue, '<--')\n",
        "enQueue('강아지') \n",
        "print('<--', queue, '<--')\n",
        "enQueue('고양이') \n",
        "print('<--', queue, '<--')"
      ],
      "execution_count": 20,
      "outputs": [
        {
          "output_type": "stream",
          "text": [
            "<-- ['화사', '솔라', '문별', '휘인', '선미'] <--\n",
            "디큐:  화사\n",
            "디큐:  솔라\n",
            "<-- [None, None, '문별', '휘인', '선미'] <--\n",
            "<-- [None, '문별', '휘인', '선미', '재남'] <--\n",
            "<-- ['문별', '휘인', '선미', '재남', '강아지'] <--\n",
            "<-- ['문별', '휘인', '선미', '재남', '강아지'] <--\n"
          ],
          "name": "stdout"
        }
      ]
    },
    {
      "cell_type": "markdown",
      "metadata": {
        "id": "FS7Fhts7_a60"
      },
      "source": [
        "- 원형 큐"
      ]
    },
    {
      "cell_type": "code",
      "metadata": {
        "colab": {
          "base_uri": "https://localhost:8080/"
        },
        "id": "emXIFA33mYrp",
        "outputId": "179f61f9-eed5-4efc-c320-cf194c54b4c5"
      },
      "source": [
        "## 함수\n",
        "def isQueueFull() :\n",
        "    global SIZE, queue, front, rear\n",
        "    if ( (rear+1) % SIZE == front) :\n",
        "        return True\n",
        "    else :\n",
        "        return False\n",
        "\n",
        "def isQueueEmpty() :\n",
        "    global SIZE, queue, front, rear\n",
        "    if (front == rear) :\n",
        "        return True\n",
        "    else :\n",
        "        return False\n",
        "\n",
        "def enQueue(data) :\n",
        "    global SIZE, queue, front, rear\n",
        "    if(isQueueFull()) :\n",
        "        print('큐 꽉~')\n",
        "        return\n",
        "    rear = (rear + 1) % SIZE\n",
        "    queue[rear] = data\n",
        "\n",
        "def deQueue() :\n",
        "    global SIZE, queue, front, rear\n",
        "    if (isQueueEmpty()) :\n",
        "        print('큐 텅~')\n",
        "        return None\n",
        "    front = (front + 1) % SIZE\n",
        "    data = queue[front]\n",
        "    queue[front] = None\n",
        "    return data\n",
        "\n",
        "## 전역\n",
        "SIZE = 5\n",
        "queue = [None for _ in range(SIZE)]\n",
        "front = rear = 0\n",
        "\n",
        "## 메인\n",
        "enQueue('화사')\n",
        "enQueue('솔라')\n",
        "enQueue('문별')\n",
        "enQueue('휘인')\n",
        "print('<--', queue, '<--')\n",
        "enQueue('선미')\n",
        "print('<--', queue, '<--')\n",
        "#\n",
        "data = deQueue(); print('디큐 :', data)\n",
        "data = deQueue(); print('디큐 :', data)\n",
        "print('<--', queue, '<--')\n",
        "#\n",
        "enQueue('재남')\n",
        "print('<--', queue, '<--')\n",
        "enQueue('강아지')\n",
        "print('<--', queue, '<--')\n",
        "enQueue('냥이')\n",
        "print('<--', queue, '<--')"
      ],
      "execution_count": 21,
      "outputs": [
        {
          "output_type": "stream",
          "text": [
            "<-- [None, '화사', '솔라', '문별', '휘인'] <--\n",
            "큐 꽉~\n",
            "<-- [None, '화사', '솔라', '문별', '휘인'] <--\n",
            "디큐 : 화사\n",
            "디큐 : 솔라\n",
            "<-- [None, None, None, '문별', '휘인'] <--\n",
            "<-- ['재남', None, None, '문별', '휘인'] <--\n",
            "<-- ['재남', '강아지', None, '문별', '휘인'] <--\n",
            "큐 꽉~\n",
            "<-- ['재남', '강아지', None, '문별', '휘인'] <--\n"
          ],
          "name": "stdout"
        }
      ]
    },
    {
      "cell_type": "code",
      "metadata": {
        "id": "ACwf89QTA5wq"
      },
      "source": [
        ""
      ],
      "execution_count": null,
      "outputs": []
    }
  ]
}