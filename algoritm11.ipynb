{
  "nbformat": 4,
  "nbformat_minor": 0,
  "metadata": {
    "colab": {
      "name": "algoritm11.ipynb",
      "provenance": [],
      "collapsed_sections": []
    },
    "kernelspec": {
      "name": "python3",
      "display_name": "Python 3"
    },
    "language_info": {
      "name": "python"
    }
  },
  "cells": [
    {
      "cell_type": "code",
      "metadata": {
        "colab": {
          "base_uri": "https://localhost:8080/"
        },
        "id": "pZUdtXvJdOJ3",
        "outputId": "ab520a12-2c71-4fa6-e359-7ef8734a36b7"
      },
      "source": [
        "def findMinIndex(ary):\n",
        "    minIndex = 0\n",
        "    for i in range(1, len(ary)):\n",
        "        if (ary[minIndex] > ary [i]):\n",
        "            minIndex = i\n",
        "\n",
        "    return minIndex\n",
        "\n",
        "testAry = [55, 88, 33 ,77]\n",
        "minPos = findMinIndex(testAry)\n",
        "\n",
        "print('최소값 -->', testAry[minPos])"
      ],
      "execution_count": 3,
      "outputs": [
        {
          "output_type": "stream",
          "text": [
            "최소값 --> 33\n"
          ],
          "name": "stdout"
        }
      ]
    },
    {
      "cell_type": "code",
      "metadata": {
        "colab": {
          "base_uri": "https://localhost:8080/"
        },
        "id": "cdUE2xvyfrqn",
        "outputId": "f4e8510d-0745-44f8-8982-c4021c6714e8"
      },
      "source": [
        "import random\n",
        "# 함수 선언\n",
        "def findMinIndex(ary):\n",
        "    minIndex = 0\n",
        "    for i in range(1, len(ary)):\n",
        "        if (ary[minIndex] > ary [i]):\n",
        "            minIndex = i\n",
        "    return minIndex\n",
        "\n",
        "# 전역 변수\n",
        "before = [random.randint(33, 190) for _ in range(20)]\n",
        "after = []\n",
        "\n",
        "\n",
        "# 메인 코드\n",
        "print('정렬 전 -->', before)\n",
        "\n",
        "# before의 개수만큼 반복\n",
        "# 가장 작은 위치를 알아내기\n",
        "# 가장 작은 값을 after에 넣은 후, before에서는 지우기\n",
        "for _ in range(len(before)):\n",
        "    minPos = findMinIndex(before)\n",
        "    after.append(before[minPos])\n",
        "    del(before[minPos])\n",
        "\n",
        "\n",
        "print('정렬 후 -->', after)"
      ],
      "execution_count": 8,
      "outputs": [
        {
          "output_type": "stream",
          "text": [
            "정렬 전 --> [149, 42, 114, 131, 165, 116, 55, 147, 109, 76, 134, 96, 96, 70, 187, 72, 162, 138, 34, 95]\n",
            "정렬 후 --> [34, 42, 55, 70, 72, 76, 95, 96, 96, 109, 114, 116, 131, 134, 138, 147, 149, 162, 165, 187]\n"
          ],
          "name": "stdout"
        }
      ]
    },
    {
      "cell_type": "code",
      "metadata": {
        "colab": {
          "base_uri": "https://localhost:8080/"
        },
        "id": "X9Gla0XwlMua",
        "outputId": "f761be64-103a-4c64-ca06-7211eb1e2f43"
      },
      "source": [
        "import random\n",
        "\n",
        "# 함수 선언\n",
        "def selectionSort(ary):\n",
        "    n = len(ary)\n",
        "    for i  in range(0, n-1):\n",
        "        minIndex = i\n",
        "        for k in range(i+1, n):\n",
        "            if ary[minIndex] > ary[k]:\n",
        "                minIndex = k\n",
        "        ary[i], ary[minIndex] = ary[minIndex], ary[i]\n",
        "    return ary\n",
        "\n",
        "\n",
        "# 전역 변수\n",
        "dataAry = [random.randint(33, 190) for _ in range(20)]\n",
        "\n",
        "\n",
        "#메인 코드\n",
        "print('정렬 전 -->', dataAry)\n",
        "dataAry = selectionSort(dataAry)\n",
        "                    \n",
        "print('정렬 전 -->', dataAry)"
      ],
      "execution_count": 12,
      "outputs": [
        {
          "output_type": "stream",
          "text": [
            "정렬 전 --> [132, 62, 159, 44, 50, 55, 116, 179, 145, 36, 131, 155, 158, 150, 175, 159, 107, 49, 49, 84]\n",
            "정렬 전 --> [36, 44, 49, 49, 50, 55, 62, 84, 107, 116, 131, 132, 145, 150, 155, 158, 159, 159, 175, 179]\n"
          ],
          "name": "stdout"
        }
      ]
    },
    {
      "cell_type": "markdown",
      "metadata": {
        "id": "5G4nP3Z2o4sM"
      },
      "source": [
        "- 퀴즈"
      ]
    },
    {
      "cell_type": "code",
      "metadata": {
        "colab": {
          "base_uri": "https://localhost:8080/"
        },
        "id": "9DxcM8pyoaSD",
        "outputId": "8e6dc912-682f-4185-d301-a3f6900eab56"
      },
      "source": [
        "## 선택 정렬하라.\n",
        "## -100부터 100까지 숫자를 랜덤하게 30개 만들기\n",
        "## 내림 차순으로 정렬하기\n",
        "\n",
        "# 함수 선언\n",
        "def selectionSort(ary):\n",
        "    n = len(ary)\n",
        "    for i  in range(0, n-1):\n",
        "        maxIndex = i\n",
        "        for k in range(i+1, n):\n",
        "            if ary[maxIndex] < ary[k]:\n",
        "                maxIndex = k\n",
        "        ary[i], ary[maxIndex] = ary[maxIndex], ary[i]\n",
        "    return ary\n",
        "\n",
        "# 전역 변수\n",
        "dataAry = [random.randint(-100, 100) for _ in range(30)]\n",
        "\n",
        "# 메인 코드\n",
        "print('정렬 전 -->', dataAry)\n",
        "dataAry = selectionSort(dataAry)\n",
        "                    \n",
        "print('정렬 전 -->', dataAry)"
      ],
      "execution_count": 13,
      "outputs": [
        {
          "output_type": "stream",
          "text": [
            "정렬 전 --> [-23, 78, 0, 99, 26, 35, 43, -64, -54, -1, 27, 47, -47, 98, 53, -68, -35, 67, -18, -95, -97, -2, -60, 11, 11, 56, 84, -13, -93, 14]\n",
            "정렬 전 --> [99, 98, 84, 78, 67, 56, 53, 47, 43, 35, 27, 26, 14, 11, 11, 0, -1, -2, -13, -18, -23, -35, -47, -54, -60, -64, -68, -93, -95, -97]\n"
          ],
          "name": "stdout"
        }
      ]
    },
    {
      "cell_type": "code",
      "metadata": {
        "id": "smA7Zhx8peG9"
      },
      "source": [
        ""
      ],
      "execution_count": null,
      "outputs": []
    }
  ]
}