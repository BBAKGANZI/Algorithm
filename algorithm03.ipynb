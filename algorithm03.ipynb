{
  "nbformat": 4,
  "nbformat_minor": 0,
  "metadata": {
    "colab": {
      "name": "algorithm03.ipynb",
      "provenance": [],
      "collapsed_sections": []
    },
    "kernelspec": {
      "name": "python3",
      "display_name": "Python 3"
    },
    "language_info": {
      "name": "python"
    }
  },
  "cells": [
    {
      "cell_type": "markdown",
      "metadata": {
        "id": "zcphfSvpgKlV"
      },
      "source": [
        "- Code03-01"
      ]
    },
    {
      "cell_type": "code",
      "metadata": {
        "colab": {
          "base_uri": "https://localhost:8080/"
        },
        "id": "O5tLbrPyK8_G",
        "outputId": "a817188d-27cd-4155-84b2-fc6669202f76"
      },
      "source": [
        "katok = []  # 빈 배열\n",
        "\n",
        "def add_data(friend):       # 새 친구 추가 함수\n",
        "    katok.append(None)      # 빈칸 추가\n",
        "    kLen = len(katok)       # Len길이\n",
        "    katok[kLen-1] = friend      # Len길이 - 1\n",
        "\n",
        "add_data('다현')\n",
        "add_data('정연')\n",
        "add_data('쯔위')\n",
        "add_data('사나')\n",
        "add_data('지효')\n",
        "\n",
        "print(katok)"
      ],
      "execution_count": 2,
      "outputs": [
        {
          "output_type": "stream",
          "text": [
            "['다현', '정연', '쯔위', '사나', '지효']\n"
          ],
          "name": "stdout"
        }
      ]
    },
    {
      "cell_type": "markdown",
      "metadata": {
        "id": "gn9aOTe5gNt7"
      },
      "source": [
        "- Code03-02"
      ]
    },
    {
      "cell_type": "code",
      "metadata": {
        "colab": {
          "base_uri": "https://localhost:8080/"
        },
        "id": "-G99IuooeFWy",
        "outputId": "e9d89213-cf03-4b15-fd62-eb069bfc5c84"
      },
      "source": [
        "katok = ['다현', '정연', '쯔위', '사나', '지효']\n",
        "\n",
        "def insert_data(position, friend):      # 삽입 함수\n",
        "\n",
        "    katok.append(None)\n",
        "    kLen = len(katok)\n",
        "\n",
        "    for i in range(kLen-1, position, -1):\n",
        "        katok[i] = katok[i-1]\n",
        "        katok[i-1] = None\n",
        "\n",
        "    katok[position] = friend\n",
        "\n",
        "insert_data(2, '솔라')\n",
        "print(katok)\n",
        "insert_data(6, '문별')\n",
        "print(katok)"
      ],
      "execution_count": 4,
      "outputs": [
        {
          "output_type": "stream",
          "text": [
            "['다현', '정연', '솔라', '쯔위', '사나', '지효']\n",
            "['다현', '정연', '솔라', '쯔위', '사나', '지효', '문별']\n"
          ],
          "name": "stdout"
        }
      ]
    },
    {
      "cell_type": "markdown",
      "metadata": {
        "id": "ZBAPRUnSio2m"
      },
      "source": [
        "- Code03-03"
      ]
    },
    {
      "cell_type": "code",
      "metadata": {
        "colab": {
          "base_uri": "https://localhost:8080/"
        },
        "id": "8Uun0dMog1Ko",
        "outputId": "1357f22d-cb2e-46e5-f0ea-416498b564d8"
      },
      "source": [
        "katok = ['다현', '정연', '쯔위', '사나', '지효']\n",
        "\n",
        "def delete_data(position):\n",
        "    kLen =len(katok)\n",
        "    katok[position] = None\n",
        "\n",
        "    for i in range(position+1, kLen, 1):\n",
        "        katok[i-1] = katok[i]\n",
        "        katok[i] = None\n",
        "\n",
        "    del(katok[kLen-1])\n",
        "\n",
        "delete_data(1)\n",
        "print(katok)\n",
        "delete_data(3)\n",
        "print(katok)"
      ],
      "execution_count": 5,
      "outputs": [
        {
          "output_type": "stream",
          "text": [
            "['다현', '쯔위', '사나', '지효']\n",
            "['다현', '쯔위', '사나']\n"
          ],
          "name": "stdout"
        }
      ]
    },
    {
      "cell_type": "markdown",
      "metadata": {
        "id": "-LXrNCmBjfdS"
      },
      "source": [
        "- Code03-04"
      ]
    },
    {
      "cell_type": "code",
      "metadata": {
        "colab": {
          "base_uri": "https://localhost:8080/"
        },
        "id": "U-Wjzg49jdmg",
        "outputId": "2daab477-2b23-4632-80b1-288368dff81a"
      },
      "source": [
        "# 함수 선언부\n",
        "def add_data(friend):       # 새 친구 추가 함수\n",
        "    katok.append(None)      # 빈칸 추가\n",
        "    kLen = len(katok)       # Len길이\n",
        "    katok[kLen-1] = friend\n",
        "\n",
        "def insert_data(position, friend):      # 삽입 함수\n",
        "    katok.append(None)\n",
        "    kLen = len(katok)\n",
        "    for i in range(kLen-1, position, -1):\n",
        "        katok[i] = katok[i-1]\n",
        "        katok[i-1] = None\n",
        "    katok[position] = friend\n",
        "\n",
        "def delete_data(position):\n",
        "    kLen =len(katok)\n",
        "    katok[position] = None\n",
        "    for i in range(position+1, kLen, 1):\n",
        "        katok[i-1] = katok[i]\n",
        "        katok[i] = None\n",
        "    del(katok[kLen-1])\n",
        "\n",
        "# 전역 변수부\n",
        "katok = []\n",
        "select = -1     # 1.추가 2.삽입 3.삭제 4.종료\n",
        "\n",
        "\n",
        "# 메인 코드부\n",
        "while(select != 4):\n",
        "    select = int(input(\"1.추가 2.삽입 3.삭제 4.종료-->\"))\n",
        "\n",
        "    if(select == 1):\n",
        "        pass        # 추가 작동\n",
        "    elif(select ==2 ):\n",
        "        pass        # 삽입 작동\n",
        "    elif(select ==3 ):\n",
        "        pass        # 삭제 작동\n",
        "    elif(select ==4 ):\n",
        "        print(katok)\n",
        "        break\n",
        "    else:\n",
        "        print('다시 확인!') \n",
        "        continue"
      ],
      "execution_count": 9,
      "outputs": [
        {
          "output_type": "stream",
          "text": [
            "1.추가 2.삽입 3.삭제 4.종료-->1\n",
            "1.추가 2.삽입 3.삭제 4.종료-->1\n",
            "1.추가 2.삽입 3.삭제 4.종료-->4\n",
            "[]\n"
          ],
          "name": "stdout"
        }
      ]
    },
    {
      "cell_type": "code",
      "metadata": {
        "id": "HW0I93h6lAyA"
      },
      "source": [
        ""
      ],
      "execution_count": 6,
      "outputs": []
    }
  ]
}