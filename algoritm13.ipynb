{
  "nbformat": 4,
  "nbformat_minor": 0,
  "metadata": {
    "colab": {
      "name": "algoritm13.ipynb",
      "provenance": [],
      "collapsed_sections": []
    },
    "kernelspec": {
      "name": "python3",
      "display_name": "Python 3"
    },
    "language_info": {
      "name": "python"
    }
  },
  "cells": [
    {
      "cell_type": "code",
      "metadata": {
        "colab": {
          "base_uri": "https://localhost:8080/"
        },
        "id": "yLiI1go2sUkS",
        "outputId": "c7cd8143-702f-4dce-8fc1-b8d2f5e81ebb"
      },
      "source": [
        "## 함수\n",
        "def binarySearch(ary, fdata):\n",
        "    pos = -1\n",
        "    start = 0\n",
        "    end = len(ary) - 1\n",
        "    while (start <= end):\n",
        "        mid = (start + end) // 2\n",
        "        if fdata == ary[mid]:\n",
        "            return mid\n",
        "        elif fdata > ary[mid]:\n",
        "            start = mid + 1\n",
        "        else:\n",
        "            end = mid - 1\n",
        "    return pos\n",
        "\n",
        "## 전역 변수\n",
        "dataAry = [50, 60, 105, 120, 150, 160, 162, 168, 177, 188]\n",
        "findData = 162      # 할머니 키\n",
        "\n",
        "## 메인 코드\n",
        "print('배열 -->', dataAry)\n",
        "position = binarySearch(dataAry, findData)\n",
        "if position == -1:\n",
        "    print('찾지 못함')\n",
        "else:\n",
        "    print(findData,'는', position, '위치에 있음')"
      ],
      "execution_count": 2,
      "outputs": [
        {
          "output_type": "stream",
          "text": [
            "배열 --> [50, 60, 105, 120, 150, 160, 162, 168, 177, 188]\n",
            "162 는 6 위치에 있음\n"
          ],
          "name": "stdout"
        }
      ]
    },
    {
      "cell_type": "code",
      "metadata": {
        "id": "UnsnLYzK0z7k"
      },
      "source": [
        ""
      ],
      "execution_count": null,
      "outputs": []
    }
  ]
}