{
  "nbformat": 4,
  "nbformat_minor": 0,
  "metadata": {
    "colab": {
      "name": "algoritm08.ipynb",
      "provenance": [],
      "collapsed_sections": []
    },
    "kernelspec": {
      "name": "python3",
      "display_name": "Python 3"
    },
    "language_info": {
      "name": "python"
    }
  },
  "cells": [
    {
      "cell_type": "markdown",
      "metadata": {
        "id": "Nha2mAfdAySN"
      },
      "source": [
        "- 트리"
      ]
    },
    {
      "cell_type": "code",
      "metadata": {
        "colab": {
          "base_uri": "https://localhost:8080/"
        },
        "id": "sN_FP5RUAoxw",
        "outputId": "5b5bbd7b-e7a3-4055-94c6-6bec58d0c432"
      },
      "source": [
        "class TreeNode():\n",
        "    def __init__(self):\n",
        "        self.left = None\n",
        "        self.data = None\n",
        "        self.right = None\n",
        "\n",
        "node1 = TreeNode()\n",
        "node1.data = '화사'\n",
        "\n",
        "node2 = TreeNode()\n",
        "node2.data = '솔라'\n",
        "node1.left = node2\n",
        "\n",
        "node3 = TreeNode()\n",
        "node3.data = '문별'\n",
        "node1.right = node3\n",
        "\n",
        "node4 = TreeNode()\n",
        "node4.data = '휘인'\n",
        "node2.left = node4\n",
        "\n",
        "node5 = TreeNode()\n",
        "node5.data = '쯔위'\n",
        "node2.right = node5\n",
        "\n",
        "node6 = TreeNode()\n",
        "node6.data = '선미'\n",
        "node3.left = node6\n",
        "\n",
        "print(node1.data, end=' ')\n",
        "print()\n",
        "print(node1.left.data, node1.right.data, end=' ')\n",
        "print()\n",
        "print(node1.left.left.data, node1.left.right.data, node1.right.left.data, end = ' ')"
      ],
      "execution_count": 1,
      "outputs": [
        {
          "output_type": "stream",
          "text": [
            "화사 \n",
            "솔라 문별 \n",
            "휘인 쯔위 선미 "
          ],
          "name": "stdout"
        }
      ]
    },
    {
      "cell_type": "code",
      "metadata": {
        "colab": {
          "base_uri": "https://localhost:8080/"
        },
        "id": "BWgg7CJFJAO-",
        "outputId": "4fe6595d-f6f0-40a3-9475-f293ca156e0e"
      },
      "source": [
        "## 함수 선언 부분 ##\n",
        "class TreeNode() :\n",
        "\tdef __init__ (self) :\n",
        "\t\tself.left = None\n",
        "\t\tself.data = None\n",
        "\t\tself.right = None\n",
        "\n",
        "## 전역 변수 선언 부분 ##\n",
        "memory = []\n",
        "root = None\n",
        "nameAry = ['블랙핑크', '레드벨벳', '마마무', '에이핑크',  '걸스데이', '트와이스' ]\n",
        "\n",
        "## 메인 코드 부분 ##\n",
        "node = TreeNode()\n",
        "node.data = nameAry[0]\n",
        "root = node     # 첫번째 노드를 루트 노드로 지정\n",
        "memory.append(node)     # 생성한 노드를 메모리에 저장\n",
        "\n",
        "for name in nameAry[1:] :       # ['레드벨벳', '마마무', '에이핑크', '걸스데이', '트와이스]\n",
        "\n",
        "\tnode = TreeNode()\n",
        "\tnode.data = name\n",
        "\n",
        "\tcurrent = root\n",
        "\twhile True :\n",
        "\t\tif name < current.data :\n",
        "\t\t\tif current.left == None :\n",
        "\t\t\t\tcurrent.left = node\n",
        "\t\t\t\tbreak\n",
        "\t\t\tcurrent = current.left\n",
        "\t\telse :\n",
        "\t\t\tif current.right == None :\n",
        "\t\t\t\tcurrent.right = node\n",
        "\t\t\t\tbreak\n",
        "\t\t\tcurrent = current.right\n",
        "\n",
        "\tmemory.append(node)\n",
        "\n",
        "print(\"이진 탐색 트리 구성 완료!\")\n",
        "\n",
        "findData = '마마무'\n",
        "current = root\n",
        "while True:\n",
        "    if current.data == findData:\n",
        "        print(findData, '찾았음!')\n",
        "        break\n",
        "    elif findData < current.data:\n",
        "        if current.left == None:\n",
        "            print(findData, '없음!')\n",
        "            break\n",
        "        current = current.left\n",
        "    else:\n",
        "        if current.right == None:\n",
        "            print(findData, '없음!!')\n",
        "            break\n",
        "        current = current.right"
      ],
      "execution_count": 6,
      "outputs": [
        {
          "output_type": "stream",
          "text": [
            "이진 탐색 트리 구성 완료!\n",
            "마마무 찾았음!\n"
          ],
          "name": "stdout"
        }
      ]
    },
    {
      "cell_type": "code",
      "metadata": {
        "id": "bBqcEpXYNC1Y"
      },
      "source": [
        ""
      ],
      "execution_count": null,
      "outputs": []
    }
  ]
}