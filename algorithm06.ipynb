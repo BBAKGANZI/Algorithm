{
  "nbformat": 4,
  "nbformat_minor": 0,
  "metadata": {
    "colab": {
      "name": "algorithm06.ipynb",
      "provenance": [],
      "collapsed_sections": []
    },
    "kernelspec": {
      "name": "python3",
      "display_name": "Python 3"
    },
    "language_info": {
      "name": "python"
    }
  },
  "cells": [
    {
      "cell_type": "markdown",
      "metadata": {
        "id": "CZLMk45lx6Il"
      },
      "source": [
        "Code06-01"
      ]
    },
    {
      "cell_type": "code",
      "metadata": {
        "colab": {
          "base_uri": "https://localhost:8080/"
        },
        "id": "l1TkOzcTvCnd",
        "outputId": "d2340869-7053-4925-9ca9-7dd915481497"
      },
      "source": [
        "stack = [None, None, None, None, None]\n",
        "top = -1\n",
        "\n",
        "top += 1\n",
        "stack[top] = '커피'\n",
        "\n",
        "top += 1\n",
        "stack[top] = '녹차'\n",
        "\n",
        "top += 1\n",
        "stack[top] = '꿀물'\n",
        "\n",
        "print(stack)"
      ],
      "execution_count": 1,
      "outputs": [
        {
          "output_type": "stream",
          "text": [
            "['커피', '녹차', '꿀물', None, None]\n"
          ],
          "name": "stdout"
        }
      ]
    },
    {
      "cell_type": "code",
      "metadata": {
        "colab": {
          "base_uri": "https://localhost:8080/"
        },
        "id": "s2nnC-Kbw9Z3",
        "outputId": "d2b6aae6-0da5-47b5-c1dc-f1f53b966e81"
      },
      "source": [
        "stack = [None, None, None, None, None]\n",
        "top = -1\n",
        "\n",
        "top += 1\n",
        "stack[top] = '커피'\n",
        "\n",
        "top += 1\n",
        "stack[top] = '녹차'\n",
        "\n",
        "top += 1\n",
        "stack[top] = '꿀물'\n",
        "\n",
        "print(stack)\n",
        "\n",
        "data = stack[top]\n",
        "stack[top] = None\n",
        "top -= 1\n",
        "print('Pop -->', data)\n",
        "\n",
        "data = stack[top]\n",
        "stack[top] = None\n",
        "top -= 1\n",
        "print('Pop -->', data)\n",
        "\n",
        "data = stack[top]\n",
        "stack[top] = None\n",
        "top -= 1\n",
        "print('Pop -->', data)\n",
        "\n",
        "\n",
        "print(stack)"
      ],
      "execution_count": 6,
      "outputs": [
        {
          "output_type": "stream",
          "text": [
            "['커피', '녹차', '꿀물', None, None]\n",
            "Pop --> 꿀물\n",
            "Pop --> 녹차\n",
            "Pop --> 커피\n",
            "[None, None, None, None, None]\n"
          ],
          "name": "stdout"
        }
      ]
    },
    {
      "cell_type": "markdown",
      "metadata": {
        "id": "e5C3K7H2xyU3"
      },
      "source": [
        "-Code06-06\n",
        "\n"
      ]
    },
    {
      "cell_type": "code",
      "metadata": {
        "colab": {
          "base_uri": "https://localhost:8080/"
        },
        "id": "HI-7QMFtxW1E",
        "outputId": "8d0fc94e-84c7-4d43-9daf-0aeb91e50029"
      },
      "source": [
        "# 함수 선언부\n",
        "def isStackFull():\n",
        "    global SIZE, stack, top\n",
        "    if (top == SIZE-1):\n",
        "        return True\n",
        "    else:\n",
        "        return False\n",
        "\n",
        "# 전역 변수부\n",
        "SIZE = 5\n",
        "stack = [None for _ in range(SIZE)]\n",
        "top = -1\n",
        "\n",
        "\n",
        "# 메인 코드부\n",
        "stack = ['커피', '녹차', '꿀물', '콜라', '환타']\n",
        "top = 4\n",
        "\n",
        "print('스택 꽉 찼나요?', isStackFull())"
      ],
      "execution_count": 9,
      "outputs": [
        {
          "output_type": "stream",
          "text": [
            "스택 꽉 찼나요? True\n"
          ],
          "name": "stdout"
        }
      ]
    },
    {
      "cell_type": "code",
      "metadata": {
        "colab": {
          "base_uri": "https://localhost:8080/"
        },
        "id": "8aLrOscly3cN",
        "outputId": "fe7d5abe-5be0-4fe1-8213-b97fcefac529"
      },
      "source": [
        "# 함수 선언부\n",
        "def isStackFull():\n",
        "    global SIZE, stack, top\n",
        "    if (top == SIZE-1):\n",
        "        return True\n",
        "    else:\n",
        "        return False\n",
        "def push(data):\n",
        "    global SIZE, stack, top\n",
        "    if (isStackFull()):\n",
        "        print(\"스택이 꽉 찼습니다.\")     # 스택이 꽉찼으면, 꽉찼다는 메시지 출력하고 종료\n",
        "        return\n",
        "    top += 1\n",
        "    stack[top] = data       # 아니라면, 스택에 데이터 넣기.\n",
        "\n",
        "# 전역 변수부\n",
        "SIZE = 5\n",
        "stack = [None for _ in range(SIZE)]\n",
        "top = -1\n",
        "\n",
        "\n",
        "# 메인 코드부\n",
        "#stack = ['커피', '녹차', '꿀물', '콜라', '환타']\n",
        "#top = 4\n",
        "\n",
        "push(\"커피1\")\n",
        "push(\"커피2\")\n",
        "push(\"커피3\")\n",
        "push(\"커피4\")\n",
        "push(\"커피5\")\n",
        "push(\"커피6\")\n",
        "\n",
        "print(stack)"
      ],
      "execution_count": 10,
      "outputs": [
        {
          "output_type": "stream",
          "text": [
            "스택이 꽉 찼습니다.\n",
            "['커피1', '커피2', '커피3', '커피4', '커피5']\n"
          ],
          "name": "stdout"
        }
      ]
    },
    {
      "cell_type": "code",
      "metadata": {
        "colab": {
          "base_uri": "https://localhost:8080/"
        },
        "id": "qFWu89kTzqBQ",
        "outputId": "7d48d226-63a1-448d-e466-1747441e669d"
      },
      "source": [
        "# 함수 선언부\n",
        "def isStackFull():\n",
        "    global SIZE, stack, top\n",
        "    if (top == SIZE-1):\n",
        "        return True\n",
        "    else:\n",
        "        return False\n",
        "def push(data):\n",
        "    global SIZE, stack, top\n",
        "    if (isStackFull()):\n",
        "        print(\"스택이 꽉 찼습니다.\")     # 스택이 꽉찼으면, 꽉찼다는 메시지 출력하고 종료\n",
        "        return\n",
        "    top += 1\n",
        "    stack[top] = data       # 아니라면, 스택에 데이터 넣기.\n",
        "\n",
        "def isStackEmpty():\n",
        "    global SIZE, stack, top\n",
        "    if (top <= -1):\n",
        "        return True\n",
        "    else:\n",
        "        return False\n",
        "\n",
        "def pop():\n",
        "    global SIZE, stack, top\n",
        "    if (isStackEmpty()):        # 스택이 비었는지 확인. 메시지 출력 후 끝\n",
        "        print(\"스택이 비었습니다.\")\n",
        "        return None\n",
        "    data = stack[top]       # 아니라면, 데이터를 추출해서 반환\n",
        "    stack[top] = None\n",
        "    top -= 1\n",
        "    return data    \n",
        "\n",
        "# 전역 변수부\n",
        "SIZE = 5\n",
        "stack = [None for _ in range(SIZE)]\n",
        "top = -1\n",
        "\n",
        "\n",
        "# 메인 코드부\n",
        "#stack = ['커피', '녹차', '꿀물', '콜라', '환타']\n",
        "#top = 4\n",
        "\n",
        "push(\"커피1\")\n",
        "push(\"커피2\")\n",
        "\n",
        "print(stack)\n",
        "\n",
        "data = pop()\n",
        "print(data)\n",
        "data = pop()\n",
        "print(data)\n",
        "data = pop()\n",
        "print(data)\n",
        "\n",
        "print(stack)"
      ],
      "execution_count": 11,
      "outputs": [
        {
          "output_type": "stream",
          "text": [
            "['커피1', '커피2', None, None, None]\n",
            "커피2\n",
            "커피1\n",
            "스택이 비었습니다.\n",
            "None\n",
            "[None, None, None, None, None]\n"
          ],
          "name": "stdout"
        }
      ]
    },
    {
      "cell_type": "code",
      "metadata": {
        "id": "lmrJMoKt3Kfg"
      },
      "source": [
        ""
      ],
      "execution_count": null,
      "outputs": []
    }
  ]
}