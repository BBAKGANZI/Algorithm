{
  "nbformat": 4,
  "nbformat_minor": 0,
  "metadata": {
    "colab": {
      "name": "algoritm09.ipynb",
      "provenance": [],
      "collapsed_sections": []
    },
    "kernelspec": {
      "name": "python3",
      "display_name": "Python 3"
    },
    "language_info": {
      "name": "python"
    }
  },
  "cells": [
    {
      "cell_type": "markdown",
      "metadata": {
        "id": "mDs4zNjeY_qc"
      },
      "source": [
        "- 그래프"
      ]
    },
    {
      "cell_type": "code",
      "metadata": {
        "colab": {
          "base_uri": "https://localhost:8080/"
        },
        "id": "H-cG7f-xY7SI",
        "outputId": "4472085f-9ec5-4fd4-95b5-2a3915452bcb"
      },
      "source": [
        "class Graph():\n",
        "    def __init__(self, size):\n",
        "        self.SIZE = size\n",
        "        self.graph = [[0 for _ in range(size)]for _ in range(size)]\n",
        "\n",
        "\n",
        "# 전역변수\n",
        "G1 = None\n",
        "A, B, C, D = 0, 1, 2, 3\n",
        "\n",
        "# 메인 코드\n",
        "G1 = Graph(4)\n",
        "G1.graph[A][B] = 1\n",
        "G1.graph[A][C] = 1\n",
        "G1.graph[A][D] = 1\n",
        "\n",
        "G1.graph[B][A] = 1\n",
        "G1.graph[B][C] = 1\n",
        "\n",
        "G1.graph[C][A] = 1\n",
        "G1.graph[C][B] = 1\n",
        "G1.graph[C][D] = 1\n",
        "\n",
        "G1.graph[D][A] = 1\n",
        "G1.graph[D][C] = 1\n",
        "\n",
        "for row in range(4):\n",
        "    for col in range(4):\n",
        "        print(G1.graph[row][col], end=' ')\n",
        "    print()"
      ],
      "execution_count": 4,
      "outputs": [
        {
          "output_type": "stream",
          "text": [
            "0 1 1 1 \n",
            "1 0 1 0 \n",
            "1 1 0 1 \n",
            "1 0 1 0 \n"
          ],
          "name": "stdout"
        }
      ]
    },
    {
      "cell_type": "code",
      "metadata": {
        "id": "qcFOWCtTc4W0"
      },
      "source": [
        ""
      ],
      "execution_count": null,
      "outputs": []
    }
  ]
}