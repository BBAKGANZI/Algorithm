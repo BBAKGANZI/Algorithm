{
  "nbformat": 4,
  "nbformat_minor": 0,
  "metadata": {
    "colab": {
      "name": "algoritm10.ipynb",
      "provenance": [],
      "collapsed_sections": []
    },
    "kernelspec": {
      "name": "python3",
      "display_name": "Python 3"
    },
    "language_info": {
      "name": "python"
    }
  },
  "cells": [
    {
      "cell_type": "markdown",
      "metadata": {
        "id": "qg4O9UbS2S69"
      },
      "source": [
        "- 재귀호출"
      ]
    },
    {
      "cell_type": "code",
      "metadata": {
        "colab": {
          "base_uri": "https://localhost:8080/"
        },
        "id": "SrK3sb4u2ONm",
        "outputId": "0ffd8633-c0d4-4794-e6c8-bc5300fe9cf3"
      },
      "source": [
        "# 함수\n",
        "def openBox():\n",
        "    global count\n",
        "    print('상자 열기!')\n",
        "    count -= 1\n",
        "    if count == 0:\n",
        "        print(\"** 선물 넣기 **\")\n",
        "        return\n",
        "    openBox()\n",
        "    print('~~ 상자 닫기')\n",
        "    # return(대부분 생략함)\n",
        "# 전역\n",
        "\n",
        "count = 10\n",
        "# 메인\n",
        "openBox()\n",
        "\n",
        "\n"
      ],
      "execution_count": 1,
      "outputs": [
        {
          "output_type": "stream",
          "text": [
            "상자 열기!\n",
            "상자 열기!\n",
            "상자 열기!\n",
            "상자 열기!\n",
            "상자 열기!\n",
            "상자 열기!\n",
            "상자 열기!\n",
            "상자 열기!\n",
            "상자 열기!\n",
            "상자 열기!\n",
            "** 선물 넣기 **\n",
            "~~ 상자 닫기\n",
            "~~ 상자 닫기\n",
            "~~ 상자 닫기\n",
            "~~ 상자 닫기\n",
            "~~ 상자 닫기\n",
            "~~ 상자 닫기\n",
            "~~ 상자 닫기\n",
            "~~ 상자 닫기\n",
            "~~ 상자 닫기\n"
          ],
          "name": "stdout"
        }
      ]
    },
    {
      "cell_type": "code",
      "metadata": {
        "colab": {
          "base_uri": "https://localhost:8080/"
        },
        "id": "x2wk6wND4IbV",
        "outputId": "71549194-415c-48d3-9349-84a4be16941f"
      },
      "source": [
        "# 함수\n",
        "def addNumber(num):\n",
        "    if num <= 1:\n",
        "        return 1\n",
        "    return num + addNumber(num-1)\n",
        "\n",
        "# 메인\n",
        "print(addNumber(5))"
      ],
      "execution_count": 2,
      "outputs": [
        {
          "output_type": "stream",
          "text": [
            "15\n"
          ],
          "name": "stdout"
        }
      ]
    },
    {
      "cell_type": "code",
      "metadata": {
        "colab": {
          "base_uri": "https://localhost:8080/"
        },
        "id": "iqnISpo95u2N",
        "outputId": "8d0271de-e0a6-46cc-ca35-8a1092783771"
      },
      "source": [
        "def countDown(n):\n",
        "    if n == 0:\n",
        "        print('발사!~')\n",
        "    else:\n",
        "        print(n)\n",
        "        countDown(n-1)\n",
        "\n",
        "countDown(5)"
      ],
      "execution_count": 7,
      "outputs": [
        {
          "output_type": "stream",
          "text": [
            "5\n",
            "4\n",
            "3\n",
            "2\n",
            "1\n",
            "발사!~\n"
          ],
          "name": "stdout"
        }
      ]
    },
    {
      "cell_type": "code",
      "metadata": {
        "colab": {
          "base_uri": "https://localhost:8080/"
        },
        "id": "2-0kCiD06l-b",
        "outputId": "5f4d047a-cbe5-4c8e-9b49-714f937a20e0"
      },
      "source": [
        "def printStar(n):\n",
        "    if n > 0:\n",
        "        printStar(n-1)\n",
        "        print('*' * n)\n",
        "\n",
        "printStar(10)"
      ],
      "execution_count": 8,
      "outputs": [
        {
          "output_type": "stream",
          "text": [
            "*\n",
            "**\n",
            "***\n",
            "****\n",
            "*****\n",
            "******\n",
            "*******\n",
            "********\n",
            "*********\n",
            "**********\n"
          ],
          "name": "stdout"
        }
      ]
    },
    {
      "cell_type": "code",
      "metadata": {
        "colab": {
          "base_uri": "https://localhost:8080/"
        },
        "id": "aAdW9nEY65Uq",
        "outputId": "8d4d80ea-5e95-45a0-9d74-7a535f61195a"
      },
      "source": [
        "def gugu(dan, num):\n",
        "    print(\"%d x %d = %d\" %(dan, num, dan*num))\n",
        "    if num < 9:\n",
        "        gugu(dan, num+1)\n",
        "\n",
        "for dan in range(2, 10):\n",
        "    print(\"## %d단\"% dan)\n",
        "    gugu(dan, 1)"
      ],
      "execution_count": 10,
      "outputs": [
        {
          "output_type": "stream",
          "text": [
            "## 2단\n",
            "2 x 1 = 2\n",
            "2 x 2 = 4\n",
            "2 x 3 = 6\n",
            "2 x 4 = 8\n",
            "2 x 5 = 10\n",
            "2 x 6 = 12\n",
            "2 x 7 = 14\n",
            "2 x 8 = 16\n",
            "2 x 9 = 18\n",
            "## 3단\n",
            "3 x 1 = 3\n",
            "3 x 2 = 6\n",
            "3 x 3 = 9\n",
            "3 x 4 = 12\n",
            "3 x 5 = 15\n",
            "3 x 6 = 18\n",
            "3 x 7 = 21\n",
            "3 x 8 = 24\n",
            "3 x 9 = 27\n",
            "## 4단\n",
            "4 x 1 = 4\n",
            "4 x 2 = 8\n",
            "4 x 3 = 12\n",
            "4 x 4 = 16\n",
            "4 x 5 = 20\n",
            "4 x 6 = 24\n",
            "4 x 7 = 28\n",
            "4 x 8 = 32\n",
            "4 x 9 = 36\n",
            "## 5단\n",
            "5 x 1 = 5\n",
            "5 x 2 = 10\n",
            "5 x 3 = 15\n",
            "5 x 4 = 20\n",
            "5 x 5 = 25\n",
            "5 x 6 = 30\n",
            "5 x 7 = 35\n",
            "5 x 8 = 40\n",
            "5 x 9 = 45\n",
            "## 6단\n",
            "6 x 1 = 6\n",
            "6 x 2 = 12\n",
            "6 x 3 = 18\n",
            "6 x 4 = 24\n",
            "6 x 5 = 30\n",
            "6 x 6 = 36\n",
            "6 x 7 = 42\n",
            "6 x 8 = 48\n",
            "6 x 9 = 54\n",
            "## 7단\n",
            "7 x 1 = 7\n",
            "7 x 2 = 14\n",
            "7 x 3 = 21\n",
            "7 x 4 = 28\n",
            "7 x 5 = 35\n",
            "7 x 6 = 42\n",
            "7 x 7 = 49\n",
            "7 x 8 = 56\n",
            "7 x 9 = 63\n",
            "## 8단\n",
            "8 x 1 = 8\n",
            "8 x 2 = 16\n",
            "8 x 3 = 24\n",
            "8 x 4 = 32\n",
            "8 x 5 = 40\n",
            "8 x 6 = 48\n",
            "8 x 7 = 56\n",
            "8 x 8 = 64\n",
            "8 x 9 = 72\n",
            "## 9단\n",
            "9 x 1 = 9\n",
            "9 x 2 = 18\n",
            "9 x 3 = 27\n",
            "9 x 4 = 36\n",
            "9 x 5 = 45\n",
            "9 x 6 = 54\n",
            "9 x 7 = 63\n",
            "9 x 8 = 72\n",
            "9 x 9 = 81\n"
          ],
          "name": "stdout"
        }
      ]
    },
    {
      "cell_type": "code",
      "metadata": {
        "id": "XQMfGoWk7Nz_"
      },
      "source": [
        ""
      ],
      "execution_count": null,
      "outputs": []
    }
  ]
}